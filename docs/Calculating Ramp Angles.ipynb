{
 "cells": [
  {
   "cell_type": "markdown",
   "metadata": {},
   "source": [
    "# Constructing a Ramp out of a Rectangular Prism"
   ]
  },
  {
   "cell_type": "markdown",
   "metadata": {},
   "source": [
    "Center of Prism should remain at (0,0,0), but we want to figure out the dimensions of the block if we want to rotate it about [0, 1, 0] by some angle theta. Bear in mind, we should have the plane of the floor bisect the diagonal of the block."
   ]
  },
  {
   "cell_type": "markdown",
   "metadata": {},
   "source": [
    "## 1. Set theta"
   ]
  },
  {
   "cell_type": "code",
   "execution_count": 1,
   "metadata": {},
   "outputs": [],
   "source": [
    "import numpy as np"
   ]
  },
  {
   "cell_type": "code",
   "execution_count": 2,
   "metadata": {},
   "outputs": [
    {
     "name": "stdout",
     "output_type": "stream",
     "text": [
      "Building a ramp at angle theta in radians: 0.5235987755982988\n"
     ]
    }
   ],
   "source": [
    "theta_deg = 30\n",
    "theta = theta_deg *np.pi/180\n",
    "print(\"Building a ramp at angle theta in radians: {}\".format(theta))"
   ]
  },
  {
   "cell_type": "markdown",
   "metadata": {},
   "source": [
    "Let r = length of ramp\n",
    "\n",
    "p = length of backside of ramp\n",
    "\n",
    "Thus r *p is the cross-sectional area of the rectangular face.\n",
    "\n",
    "Set r to something within reason."
   ]
  },
  {
   "cell_type": "code",
   "execution_count": 3,
   "metadata": {},
   "outputs": [],
   "source": [
    "r= 2"
   ]
  },
  {
   "cell_type": "markdown",
   "metadata": {},
   "source": [
    "It can be shown that p = r*tan(theta)"
   ]
  },
  {
   "cell_type": "code",
   "execution_count": 4,
   "metadata": {},
   "outputs": [
    {
     "name": "stdout",
     "output_type": "stream",
     "text": [
      "Width of rectangle is 1.1547005383792515\n"
     ]
    }
   ],
   "source": [
    "import numpy as np\n",
    "p = r*np.tan(theta)\n",
    "print(\"Width of rectangle is {}\".format(p))"
   ]
  },
  {
   "cell_type": "markdown",
   "metadata": {},
   "source": [
    "Enter these dimensions into size parameter of MuJoCo. Remember to cut them in half.\n",
    "\n",
    "Size=\"x y z\""
   ]
  },
  {
   "cell_type": "code",
   "execution_count": 5,
   "metadata": {},
   "outputs": [
    {
     "name": "stdout",
     "output_type": "stream",
     "text": [
      "Size=\"0.5773502691896257 0.5773502691896257 1.0\"\n"
     ]
    }
   ],
   "source": [
    "x = 0.5*p\n",
    "y = x\n",
    "z = 0.5*r\n",
    "print('Size=\"{} {} {}\"'.format(x, y, z))"
   ]
  },
  {
   "cell_type": "markdown",
   "metadata": {},
   "source": [
    "# Calculate the Quaternions"
   ]
  },
  {
   "cell_type": "markdown",
   "metadata": {},
   "source": [
    "Recall that quaternions are four dimensional vectors. Our simulation maps 4-D into a 3-D space by allowing the first component to be a real scalar and the last 3 to be the x,y,z components of an imaginary vector."
   ]
  },
  {
   "cell_type": "markdown",
   "metadata": {},
   "source": [
    "Re{quat} = cos(theta/2)\n",
    "\n",
    "Im{quat} = sin(theta/2) * vector about which we wish to rotate object\n",
    "\n",
    "Here, we rotate about [0,1,0] so that our ramp is oriented s.t. Pupper slides down the ramp from left to right side of screen.\n",
    "\n",
    "quat = \"a b c d\""
   ]
  },
  {
   "cell_type": "code",
   "execution_count": 6,
   "metadata": {},
   "outputs": [
    {
     "name": "stdout",
     "output_type": "stream",
     "text": [
      "quat=\"0.9659258262890683 0.0 0.25881904510252074 0.0\"\n"
     ]
    }
   ],
   "source": [
    "a = np.cos(theta/2)\n",
    "b = 0 * np.sin(theta/2)\n",
    "c = 1 * np.sin(theta/2)\n",
    "d = 0 * np.sin(theta/2)\n",
    "print('quat=\"{} {} {} {}\"'.format(a, b, c, d))"
   ]
  },
  {
   "cell_type": "markdown",
   "metadata": {},
   "source": [
    "# Calculate Initial Position of Pupper or Rectangular Block"
   ]
  },
  {
   "cell_type": "markdown",
   "metadata": {},
   "source": [
    "Notice the tip of the ramp (most elevated part along z) is not dirctly centered above the origin. This is because we left the center of the rectangular prism at (0, 0, 0). To calculate this, we consider the cordinates of the vector which go from the origin to this point. The magnbitude of this vector is half of the diagonal of the rectangular prism. Call this vector g. This vector makes an angle alpha with the x-axis."
   ]
  },
  {
   "cell_type": "code",
   "execution_count": 22,
   "metadata": {},
   "outputs": [
    {
     "name": "stdout",
     "output_type": "stream",
     "text": [
      "The top of the ramp is located at coordinates (-0.5773502691896255, 0, 1.0)\n"
     ]
    }
   ],
   "source": [
    "alpha = np.pi/2+ theta\n",
    "g = np.sqrt((0.5*r)**2 + (0.5*p)**2)\n",
    "g_x = g * np.cos(alpha)\n",
    "g_z = g * np.sin(alpha)\n",
    "print(\"The top of the ramp is located at coordinates ({}, 0, {})\".format(g_x, g_z))"
   ]
  },
  {
   "cell_type": "code",
   "execution_count": 23,
   "metadata": {},
   "outputs": [
    {
     "data": {
      "text/plain": [
       "1.1547005383792515"
      ]
     },
     "execution_count": 23,
     "metadata": {},
     "output_type": "execute_result"
    }
   ],
   "source": [
    "g"
   ]
  },
  {
   "cell_type": "markdown",
   "metadata": {},
   "source": [
    "However, we want to actually learn the global positiof the block's center. To calculate the global coordinates of this, we must calculate the components of the vector f, which is half the diagonal of the block."
   ]
  },
  {
   "cell_type": "markdown",
   "metadata": {},
   "source": [
    "The dimensions of Pupper's cross-section are 0.3 x 0.06 x 0.25."
   ]
  },
  {
   "cell_type": "markdown",
   "metadata": {},
   "source": [
    "So we must add 1/2f_x and 1/2f_y to our coordinates above."
   ]
  },
  {
   "cell_type": "code",
   "execution_count": 24,
   "metadata": {},
   "outputs": [
    {
     "name": "stdout",
     "output_type": "stream",
     "text": [
      "The top of the ramp is located at coordinates (0.2814582562299426, 0, 0.16249999999999998)\n"
     ]
    }
   ],
   "source": [
    "w = 0.6\n",
    "h = 0.25\n",
    "f = np.sqrt((0.5*w)**2 + (0.5*h)**2)\n",
    "f_x = f * np.cos(theta)\n",
    "f_z = f * np.sin(theta)\n",
    "print(\"The top of the ramp is located at coordinates ({}, 0, {})\".format(f_x, f_z))"
   ]
  },
  {
   "cell_type": "code",
   "execution_count": 27,
   "metadata": {},
   "outputs": [
    {
     "data": {
      "text/plain": [
       "0.1625"
      ]
     },
     "execution_count": 27,
     "metadata": {},
     "output_type": "execute_result"
    }
   ],
   "source": [
    "f/2"
   ]
  },
  {
   "cell_type": "code",
   "execution_count": 26,
   "metadata": {},
   "outputs": [
    {
     "name": "stdout",
     "output_type": "stream",
     "text": [
      "x_tot = -0.2523502691896255\n",
      "z_tot = 1.0\n"
     ]
    }
   ],
   "source": [
    "print(\"x_tot = {}\".format(g_x + f))\n",
    "print(\"z_tot = {}\".format(g_z))"
   ]
  },
  {
   "cell_type": "code",
   "execution_count": null,
   "metadata": {},
   "outputs": [],
   "source": []
  }
 ],
 "metadata": {
  "kernelspec": {
   "display_name": "Python 3",
   "language": "python",
   "name": "python3"
  },
  "language_info": {
   "codemirror_mode": {
    "name": "ipython",
    "version": 3
   },
   "file_extension": ".py",
   "mimetype": "text/x-python",
   "name": "python",
   "nbconvert_exporter": "python",
   "pygments_lexer": "ipython3",
   "version": "3.7.3"
  }
 },
 "nbformat": 4,
 "nbformat_minor": 2
}
