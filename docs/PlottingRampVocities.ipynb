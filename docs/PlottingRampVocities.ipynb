{
 "cells": [
  {
   "cell_type": "markdown",
   "metadata": {},
   "source": [
    "# Load the Data Using Panda"
   ]
  },
  {
   "cell_type": "code",
   "execution_count": 1,
   "metadata": {},
   "outputs": [],
   "source": [
    "import pandas as pd\n",
    "import numpy as np\n",
    "import matplotlib.pyplot as plt"
   ]
  },
  {
   "cell_type": "code",
   "execution_count": 2,
   "metadata": {},
   "outputs": [],
   "source": [
    "df =  pd.read_csv(\"velocitiesblock01.txt\", header=None)"
   ]
  },
  {
   "cell_type": "code",
   "execution_count": 3,
   "metadata": {},
   "outputs": [
    {
     "data": {
      "text/html": [
       "<div>\n",
       "<style scoped>\n",
       "    .dataframe tbody tr th:only-of-type {\n",
       "        vertical-align: middle;\n",
       "    }\n",
       "\n",
       "    .dataframe tbody tr th {\n",
       "        vertical-align: top;\n",
       "    }\n",
       "\n",
       "    .dataframe thead th {\n",
       "        text-align: right;\n",
       "    }\n",
       "</style>\n",
       "<table border=\"1\" class=\"dataframe\">\n",
       "  <thead>\n",
       "    <tr style=\"text-align: right;\">\n",
       "      <th></th>\n",
       "      <th>0</th>\n",
       "      <th>1</th>\n",
       "      <th>2</th>\n",
       "    </tr>\n",
       "  </thead>\n",
       "  <tbody>\n",
       "    <tr>\n",
       "      <th>0</th>\n",
       "      <td>gvel: 0.0</td>\n",
       "      <td>0.0</td>\n",
       "      <td>0.000</td>\n",
       "    </tr>\n",
       "    <tr>\n",
       "      <th>1</th>\n",
       "      <td>gvel: 0.0</td>\n",
       "      <td>0.0</td>\n",
       "      <td>-0.049</td>\n",
       "    </tr>\n",
       "    <tr>\n",
       "      <th>2</th>\n",
       "      <td>gvel: 0.037</td>\n",
       "      <td>-0.0</td>\n",
       "      <td>-0.052</td>\n",
       "    </tr>\n",
       "    <tr>\n",
       "      <th>3</th>\n",
       "      <td>gvel: 0.068</td>\n",
       "      <td>-0.0</td>\n",
       "      <td>-0.064</td>\n",
       "    </tr>\n",
       "    <tr>\n",
       "      <th>4</th>\n",
       "      <td>gvel: 0.095</td>\n",
       "      <td>-0.0</td>\n",
       "      <td>-0.080</td>\n",
       "    </tr>\n",
       "    <tr>\n",
       "      <th>5</th>\n",
       "      <td>gvel: 0.12</td>\n",
       "      <td>-0.0</td>\n",
       "      <td>-0.098</td>\n",
       "    </tr>\n",
       "    <tr>\n",
       "      <th>6</th>\n",
       "      <td>gvel: 0.145</td>\n",
       "      <td>-0.0</td>\n",
       "      <td>-0.118</td>\n",
       "    </tr>\n",
       "    <tr>\n",
       "      <th>7</th>\n",
       "      <td>gvel: 0.145</td>\n",
       "      <td>-0.0</td>\n",
       "      <td>-0.167</td>\n",
       "    </tr>\n",
       "    <tr>\n",
       "      <th>8</th>\n",
       "      <td>gvel: 0.181</td>\n",
       "      <td>0.0</td>\n",
       "      <td>-0.171</td>\n",
       "    </tr>\n",
       "    <tr>\n",
       "      <th>9</th>\n",
       "      <td>gvel: 0.211</td>\n",
       "      <td>0.0</td>\n",
       "      <td>-0.183</td>\n",
       "    </tr>\n",
       "  </tbody>\n",
       "</table>\n",
       "</div>"
      ],
      "text/plain": [
       "             0    1      2\n",
       "0    gvel: 0.0  0.0  0.000\n",
       "1    gvel: 0.0  0.0 -0.049\n",
       "2  gvel: 0.037 -0.0 -0.052\n",
       "3  gvel: 0.068 -0.0 -0.064\n",
       "4  gvel: 0.095 -0.0 -0.080\n",
       "5   gvel: 0.12 -0.0 -0.098\n",
       "6  gvel: 0.145 -0.0 -0.118\n",
       "7  gvel: 0.145 -0.0 -0.167\n",
       "8  gvel: 0.181  0.0 -0.171\n",
       "9  gvel: 0.211  0.0 -0.183"
      ]
     },
     "execution_count": 3,
     "metadata": {},
     "output_type": "execute_result"
    }
   ],
   "source": [
    "df.head(10)"
   ]
  },
  {
   "cell_type": "code",
   "execution_count": 4,
   "metadata": {},
   "outputs": [
    {
     "data": {
      "text/plain": [
       "array([0, 1, 2, 3, 4, 5, 6, 7, 8, 9])"
      ]
     },
     "execution_count": 4,
     "metadata": {},
     "output_type": "execute_result"
    }
   ],
   "source": [
    "step = df.index.values\n",
    "step[:10]"
   ]
  },
  {
   "cell_type": "code",
   "execution_count": 5,
   "metadata": {},
   "outputs": [],
   "source": [
    "v_x = df[0].apply(lambda x: float(x.strip('gvel: '))).values"
   ]
  },
  {
   "cell_type": "code",
   "execution_count": 6,
   "metadata": {},
   "outputs": [
    {
     "data": {
      "text/plain": [
       "array([0.   , 0.   , 0.037, 0.068, 0.095, 0.12 , 0.145, 0.145, 0.181,\n",
       "       0.211])"
      ]
     },
     "execution_count": 6,
     "metadata": {},
     "output_type": "execute_result"
    }
   ],
   "source": [
    "v_x[:10]"
   ]
  },
  {
   "cell_type": "code",
   "execution_count": 7,
   "metadata": {},
   "outputs": [],
   "source": [
    "v_z = df[2].apply(float).values"
   ]
  },
  {
   "cell_type": "code",
   "execution_count": 8,
   "metadata": {},
   "outputs": [
    {
     "data": {
      "text/plain": [
       "array([ 0.   , -0.049, -0.052, -0.064, -0.08 , -0.098, -0.118, -0.167,\n",
       "       -0.171, -0.183])"
      ]
     },
     "execution_count": 8,
     "metadata": {},
     "output_type": "execute_result"
    }
   ],
   "source": [
    "v_z[:10]"
   ]
  },
  {
   "cell_type": "markdown",
   "metadata": {},
   "source": [
    "# Get the Velocity Magnitude"
   ]
  },
  {
   "cell_type": "code",
   "execution_count": 9,
   "metadata": {},
   "outputs": [],
   "source": [
    "df[3] = np.sqrt(v_x**2 + v_z**2)\n",
    "v = df[3].values"
   ]
  },
  {
   "cell_type": "code",
   "execution_count": 13,
   "metadata": {},
   "outputs": [
    {
     "data": {
      "text/html": [
       "<div>\n",
       "<style scoped>\n",
       "    .dataframe tbody tr th:only-of-type {\n",
       "        vertical-align: middle;\n",
       "    }\n",
       "\n",
       "    .dataframe tbody tr th {\n",
       "        vertical-align: top;\n",
       "    }\n",
       "\n",
       "    .dataframe thead th {\n",
       "        text-align: right;\n",
       "    }\n",
       "</style>\n",
       "<table border=\"1\" class=\"dataframe\">\n",
       "  <thead>\n",
       "    <tr style=\"text-align: right;\">\n",
       "      <th></th>\n",
       "      <th>v_x</th>\n",
       "      <th>1</th>\n",
       "      <th>v_y</th>\n",
       "      <th>v_norm</th>\n",
       "      <th>step</th>\n",
       "    </tr>\n",
       "  </thead>\n",
       "  <tbody>\n",
       "    <tr>\n",
       "      <th>0</th>\n",
       "      <td>gvel: 0.0</td>\n",
       "      <td>0.0</td>\n",
       "      <td>0.000</td>\n",
       "      <td>0.000000</td>\n",
       "      <td>0</td>\n",
       "    </tr>\n",
       "    <tr>\n",
       "      <th>1</th>\n",
       "      <td>gvel: 0.0</td>\n",
       "      <td>0.0</td>\n",
       "      <td>-0.049</td>\n",
       "      <td>0.049000</td>\n",
       "      <td>1</td>\n",
       "    </tr>\n",
       "    <tr>\n",
       "      <th>2</th>\n",
       "      <td>gvel: 0.037</td>\n",
       "      <td>-0.0</td>\n",
       "      <td>-0.052</td>\n",
       "      <td>0.063820</td>\n",
       "      <td>2</td>\n",
       "    </tr>\n",
       "    <tr>\n",
       "      <th>3</th>\n",
       "      <td>gvel: 0.068</td>\n",
       "      <td>-0.0</td>\n",
       "      <td>-0.064</td>\n",
       "      <td>0.093381</td>\n",
       "      <td>3</td>\n",
       "    </tr>\n",
       "    <tr>\n",
       "      <th>4</th>\n",
       "      <td>gvel: 0.095</td>\n",
       "      <td>-0.0</td>\n",
       "      <td>-0.080</td>\n",
       "      <td>0.124197</td>\n",
       "      <td>4</td>\n",
       "    </tr>\n",
       "  </tbody>\n",
       "</table>\n",
       "</div>"
      ],
      "text/plain": [
       "           v_x    1    v_y    v_norm  step\n",
       "0    gvel: 0.0  0.0  0.000  0.000000     0\n",
       "1    gvel: 0.0  0.0 -0.049  0.049000     1\n",
       "2  gvel: 0.037 -0.0 -0.052  0.063820     2\n",
       "3  gvel: 0.068 -0.0 -0.064  0.093381     3\n",
       "4  gvel: 0.095 -0.0 -0.080  0.124197     4"
      ]
     },
     "execution_count": 13,
     "metadata": {},
     "output_type": "execute_result"
    }
   ],
   "source": [
    "df = df.rename(columns = {0: \"v_x\", 2:\"v_y\", 3:\"v_norm\"})\n",
    "df['step'] = step\n",
    "df.head()"
   ]
  },
  {
   "cell_type": "code",
   "execution_count": 12,
   "metadata": {},
   "outputs": [
    {
     "data": {
      "text/plain": [
       "array([0.        , 0.049     , 0.06382006, 0.09338094, 0.12419742,\n",
       "       0.15493224, 0.18694652, 0.2211651 , 0.24900201, 0.2793027 ])"
      ]
     },
     "execution_count": 12,
     "metadata": {},
     "output_type": "execute_result"
    }
   ],
   "source": [
    "v[:10]"
   ]
  },
  {
   "cell_type": "markdown",
   "metadata": {},
   "source": [
    "# Plot the X, Z components and Magnitude"
   ]
  },
  {
   "cell_type": "code",
   "execution_count": 14,
   "metadata": {},
   "outputs": [
    {
     "data": {
      "image/png": "[encoded data removed]",
      "text/plain": [
       "<Figure size 432x288 with 1 Axes>"
      ]
     },
     "metadata": {
      "needs_background": "light"
     },
     "output_type": "display_data"
    }
   ],
   "source": [
    "fig, ax = plt.subplots()\n",
    "ax.plot(step, v_x, label=\"v_x\")\n",
    "ax.plot(step, v_z, label=\"v_z\")\n",
    "ax.plot(step, v, label=\"v_norm\")\n",
    "ax.legend()\n",
    "ax.set_title(\"Block on Ramp Velocities μ = 0.1\")\n",
    "ax.set_ylabel(\"velocity\")\n",
    "ax.set_xlabel(\"timestep\");"
   ]
  },
  {
   "cell_type": "markdown",
   "metadata": {},
   "source": [
    "# Calculate Friction Coefficient"
   ]
  },
  {
   "cell_type": "markdown",
   "metadata": {},
   "source": [
    "Let's try to fit a line through v_norm using linear regression. First we need to determine exact timestep where the block exits the ramp."
   ]
  },
  {
   "cell_type": "code",
   "execution_count": 16,
   "metadata": {},
   "outputs": [
    {
     "name": "stdout",
     "output_type": "stream",
     "text": [
      "Velocity decreasing at timestep 68\n",
      "Velocity went from 2.1021 to 1.4750\n"
     ]
    }
   ],
   "source": [
    "prev_vel = -1*float(\"inf\")\n",
    "for i, vel in enumerate(v):\n",
    "    if vel < prev_vel:\n",
    "        print(\"Velocity decreasing at timestep {}\".format(i))\n",
    "        print(\"Velocity went from {:0.4f} to {:0.4f}\".format(prev_vel, vel))\n",
    "        break\n",
    "    prev_vel = vel"
   ]
  },
  {
   "cell_type": "code",
   "execution_count": 29,
   "metadata": {},
   "outputs": [],
   "source": [
    "step_ramp = df.iloc[0:68][\"step\"].values.reshape(-1, 1)\n",
    "v_ramp = df.iloc[0:68] [\"v_norm\"].values.reshape(-1, 1)"
   ]
  },
  {
   "cell_type": "code",
   "execution_count": 30,
   "metadata": {},
   "outputs": [],
   "source": [
    "from sklearn.linear_model import LinearRegression\n",
    "linear_regressor = LinearRegression()  # create object for the class\n",
    "linear_regressor.fit(step_ramp, v_ramp)  # perform linear regression\n",
    "v_pred = linear_regressor.predict(step_ramp)  # make predictions"
   ]
  },
  {
   "cell_type": "code",
   "execution_count": 33,
   "metadata": {},
   "outputs": [
    {
     "data": {
      "image/png": "[encoded data removed]",
      "text/plain": [
       "<Figure size 432x288 with 1 Axes>"
      ]
     },
     "metadata": {
      "needs_background": "light"
     },
     "output_type": "display_data"
    }
   ],
   "source": [
    "plt.scatter(step_ramp, v_ramp)\n",
    "plt.plot(step_ramp, v_pred, color='red')\n",
    "plt.show()"
   ]
  },
  {
   "cell_type": "markdown",
   "metadata": {},
   "source": [
    "The acceleration is simply the slope of the fit."
   ]
  },
  {
   "cell_type": "code",
   "execution_count": 39,
   "metadata": {},
   "outputs": [
    {
     "name": "stdout",
     "output_type": "stream",
     "text": [
      "The block fell down the ramp with an acceleration of 0.0312 m/s^2\n"
     ]
    }
   ],
   "source": [
    "a = linear_regressor.coef_[0][0]\n",
    "print(\"The block fell down the ramp with an acceleration of {:0.4f} m/s^2\".format(a))"
   ]
  },
  {
   "cell_type": "code",
   "execution_count": null,
   "metadata": {},
   "outputs": [],
   "source": []
  },
  {
   "cell_type": "code",
   "execution_count": null,
   "metadata": {},
   "outputs": [],
   "source": []
  },
  {
   "cell_type": "markdown",
   "metadata": {},
   "source": [
    "# Repeat For Sphere"
   ]
  },
  {
   "cell_type": "markdown",
   "metadata": {},
   "source": [
    "Sphere starts at same coordinates as block and has diameter = 0.025, which is also width and height of block (depth is 0.05)"
   ]
  },
  {
   "cell_type": "code",
   "execution_count": null,
   "metadata": {},
   "outputs": [],
   "source": [
    "df =  pd.read_csv(\"velocitiessphere01.txt\", header=None)"
   ]
  },
  {
   "cell_type": "code",
   "execution_count": null,
   "metadata": {},
   "outputs": [],
   "source": [
    "step = df.index.values\n",
    "v_x = df[0].apply(lambda x: float(x.strip('gvel: '))).values\n",
    "v_z = df[2].apply(float).values\n",
    "df[3] = np.sqrt(v_x**2 + v_z**2)\n",
    "v = df[3].values"
   ]
  },
  {
   "cell_type": "markdown",
   "metadata": {},
   "source": [
    "## Plot it"
   ]
  },
  {
   "cell_type": "code",
   "execution_count": null,
   "metadata": {},
   "outputs": [],
   "source": [
    "fig, ax = plt.subplots()\n",
    "ax.plot(step, v_x, label=\"v_x\")\n",
    "ax.plot(step, v_z, label=\"v_z\")\n",
    "ax.plot(step, v, label=\"v_norm\")\n",
    "ax.legend()\n",
    "ax.set_title(\"Sphere on Ramp Velocities μ = 0.1\")\n",
    "ax.set_ylabel(\"velocity\")\n",
    "ax.set_xlabel(\"timestep\");"
   ]
  },
  {
   "cell_type": "markdown",
   "metadata": {},
   "source": [
    "# Try to Limit Bouncing of Sphere"
   ]
  },
  {
   "cell_type": "markdown",
   "metadata": {},
   "source": [
    "Taking a closer look at z-component of velocity, we see, it dosn't actually go to exactly zero after it exits the ramp, but rather there is some bouncing effect."
   ]
  },
  {
   "cell_type": "code",
   "execution_count": null,
   "metadata": {},
   "outputs": [],
   "source": [
    "fig, ax = plt.subplots()\n",
    "ax.plot(step, v_z, label=\"v_z\")\n",
    "ax.legend()\n",
    "ax.set_title(\"Sphere on Ramp Velocities μ = 0.1\")\n",
    "ax.set_ylabel(\"velocity\")\n",
    "ax.set_xlabel(\"timestep\")\n",
    "ax.set_xlim(70, 160)\n",
    "ax.set_ylim(-0.05, 0.15);"
   ]
  },
  {
   "cell_type": "code",
   "execution_count": null,
   "metadata": {},
   "outputs": [],
   "source": [
    "df.iloc[70:95][2]"
   ]
  },
  {
   "cell_type": "code",
   "execution_count": null,
   "metadata": {},
   "outputs": [],
   "source": [
    "df.iloc[110:120][2]"
   ]
  },
  {
   "cell_type": "markdown",
   "metadata": {},
   "source": [
    "The initial bounce druves the z-component of velocity up to 0.140 at t=74. Then the sphere starts slowing down, but is still travelling upward until t=88. The sphere makes one more bounce, but then hits a resting velocity at t=111"
   ]
  },
  {
   "cell_type": "markdown",
   "metadata": {},
   "source": [
    "# Turn on Condim = 6 to Provide Rotational Friction"
   ]
  },
  {
   "cell_type": "code",
   "execution_count": null,
   "metadata": {},
   "outputs": [],
   "source": [
    "df =  pd.read_csv(\"velocitiessphere02.txt\", header=None)\n",
    "step = df.index.values\n",
    "v_x = df[0].apply(lambda x: float(x.strip('gvel: '))).values\n",
    "v_z = df[2].apply(float).values\n",
    "df[3] = np.sqrt(v_x**2 + v_z**2)\n",
    "v = df[3].values"
   ]
  },
  {
   "cell_type": "code",
   "execution_count": null,
   "metadata": {},
   "outputs": [],
   "source": [
    "fig, ax = plt.subplots()\n",
    "ax.plot(step, v_x, label=\"v_x\")\n",
    "ax.plot(step, v_z, label=\"v_z\")\n",
    "ax.plot(step, v, label=\"v_norm\")\n",
    "ax.legend()\n",
    "ax.set_title(\"Sphere on Ramp Velocities μ = 0.1 0.005 0.0001, Condim=6\")\n",
    "ax.set_ylabel(\"velocity\")\n",
    "ax.set_xlabel(\"timestep\");"
   ]
  },
  {
   "cell_type": "markdown",
   "metadata": {},
   "source": [
    "Bouncing is noticeably worse, and does not converge to 0 well after 1000 time steps. Try increasing other friction components."
   ]
  },
  {
   "cell_type": "markdown",
   "metadata": {},
   "source": [
    "# Increase All Friction Params and Ball stops, but still bounces"
   ]
  },
  {
   "cell_type": "code",
   "execution_count": null,
   "metadata": {},
   "outputs": [],
   "source": [
    "df =  pd.read_csv(\"velocitiessphere03.txt\", header=None)\n",
    "step = df.index.values\n",
    "v_x = df[0].apply(lambda x: float(x.strip('gvel: '))).values\n",
    "v_z = df[2].apply(float).values\n",
    "df[3] = np.sqrt(v_x**2 + v_z**2)\n",
    "v = df[3].values"
   ]
  },
  {
   "cell_type": "code",
   "execution_count": null,
   "metadata": {},
   "outputs": [],
   "source": [
    "fig, ax = plt.subplots()\n",
    "ax.plot(step, v_x, label=\"v_x\")\n",
    "ax.plot(step, v_z, label=\"v_z\")\n",
    "ax.plot(step, v, label=\"v_norm\")\n",
    "ax.legend()\n",
    "ax.set_title(\"Sphere on Ramp Velocities μ = 0.2 0.05 0.01, Condim=6\")\n",
    "ax.set_ylabel(\"velocity\")\n",
    "ax.set_xlabel(\"timestep\");"
   ]
  },
  {
   "cell_type": "markdown",
   "metadata": {},
   "source": [
    "Indeed, bouncing seems worse here. Sphere even bounces as it falls down ramp. Let's actually decrease rotational and torsional frictions."
   ]
  },
  {
   "cell_type": "code",
   "execution_count": null,
   "metadata": {},
   "outputs": [],
   "source": [
    "df =  pd.read_csv(\"velocitiessphere04.txt\", header=None)\n",
    "step = df.index.values\n",
    "v_x = df[0].apply(lambda x: float(x.strip('gvel: '))).values\n",
    "v_z = df[2].apply(float).values\n",
    "df[3] = np.sqrt(v_x**2 + v_z**2)\n",
    "v = df[3].values"
   ]
  },
  {
   "cell_type": "code",
   "execution_count": null,
   "metadata": {},
   "outputs": [],
   "source": [
    "fig, ax = plt.subplots()\n",
    "ax.plot(step, v_x, label=\"v_x\")\n",
    "ax.plot(step, v_z, label=\"v_z\")\n",
    "ax.plot(step, v, label=\"v_norm\")\n",
    "ax.legend()\n",
    "ax.set_title(\"Sphere on Ramp Velocities μ = 0.2 0.05 0.00001, Condim=6\")\n",
    "ax.set_ylabel(\"velocity\")\n",
    "ax.set_xlabel(\"timestep\");"
   ]
  },
  {
   "cell_type": "markdown",
   "metadata": {},
   "source": [
    "Let's try to eliminate bouncing on the ramp"
   ]
  },
  {
   "cell_type": "code",
   "execution_count": null,
   "metadata": {},
   "outputs": [],
   "source": [
    "df =  pd.read_csv(\"velocitiessphere05.txt\", header=None)\n",
    "step = df.index.values\n",
    "v_x = df[0].apply(lambda x: float(x.strip('gvel: '))).values\n",
    "v_z = df[2].apply(float).values\n",
    "df[3] = np.sqrt(v_x**2 + v_z**2)\n",
    "v = df[3].values"
   ]
  },
  {
   "cell_type": "code",
   "execution_count": null,
   "metadata": {},
   "outputs": [],
   "source": [
    "fig, ax = plt.subplots()\n",
    "ax.plot(step, v_x, label=\"v_x\")\n",
    "ax.plot(step, v_z, label=\"v_z\")\n",
    "ax.plot(step, v, label=\"v_norm\")\n",
    "ax.legend()\n",
    "ax.set_title(\"Sphere on Ramp Velocities μ = 0.2 0.005 0.00001, Condim=6\")\n",
    "ax.set_ylabel(\"velocity\")\n",
    "ax.set_xlabel(\"timestep\");"
   ]
  },
  {
   "cell_type": "markdown",
   "metadata": {},
   "source": [
    "# Try Placing Primitive Pupper on the Ramp"
   ]
  },
  {
   "cell_type": "code",
   "execution_count": null,
   "metadata": {},
   "outputs": [],
   "source": [
    "df =  pd.read_csv(\"velocitiesprimitivepupper.txt\", header=None)\n",
    "step = df.index.values\n",
    "v_x = df[0].apply(lambda x: float(x.strip('gvel: '))).values\n",
    "v_z = df[2].apply(float).values\n",
    "df[3] = np.sqrt(v_x**2 + v_z**2)\n",
    "v = df[3].values"
   ]
  },
  {
   "cell_type": "code",
   "execution_count": null,
   "metadata": {},
   "outputs": [],
   "source": [
    "fig, ax = plt.subplots()\n",
    "ax.plot(step, v_x, label=\"v_x\")\n",
    "ax.plot(step, v_z, label=\"v_z\")\n",
    "ax.plot(step, v, label=\"v_norm\")\n",
    "ax.legend()\n",
    "ax.set_title(\"Sphere on Ramp Velocities μ = 0.2 0.005 0.00001, Condim=6\")\n",
    "ax.set_ylabel(\"velocity\")\n",
    "ax.set_xlabel(\"timestep\");"
   ]
  },
  {
   "cell_type": "code",
   "execution_count": null,
   "metadata": {},
   "outputs": [],
   "source": []
  }
 ],
 "metadata": {
  "kernelspec": {
   "display_name": "Python 3",
   "language": "python",
   "name": "python3"
  },
  "language_info": {
   "codemirror_mode": {
    "name": "ipython",
    "version": 3
   },
   "file_extension": ".py",
   "mimetype": "text/x-python",
   "name": "python",
   "nbconvert_exporter": "python",
   "pygments_lexer": "ipython3",
   "version": "3.7.3"
  }
 },
 "nbformat": 4,
 "nbformat_minor": 2
}
